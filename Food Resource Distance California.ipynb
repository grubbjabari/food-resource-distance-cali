{
 "cells": [
  {
   "cell_type": "code",
   "execution_count": 2,
   "id": "e652f095-b445-4a6d-bd0a-aa44deac6e7d",
   "metadata": {},
   "outputs": [
    {
     "name": "stdout",
     "output_type": "stream",
     "text": [
      "Found existing installation: geopy 2.4.0\n",
      "Uninstalling geopy-2.4.0:\n",
      "  Successfully uninstalled geopy-2.4.0\n",
      "Defaulting to user installation because normal site-packages is not writeable\n",
      "Looking in links: /usr/share/pip-wheels\n",
      "Collecting geopy\n",
      "  Using cached geopy-2.4.0-py3-none-any.whl (125 kB)\n",
      "Requirement already satisfied: geographiclib<3,>=1.52 in ./.local/lib/python3.11/site-packages (from geopy) (2.0)\n",
      "Installing collected packages: geopy\n",
      "Successfully installed geopy-2.4.0\n"
     ]
    }
   ],
   "source": [
    "!pip uninstall geopy --yes geopy\n",
    "!pip install geopy"
   ]
  },
  {
   "cell_type": "code",
   "execution_count": 3,
   "id": "2b48fb9c",
   "metadata": {},
   "outputs": [],
   "source": [
    "# Importing libraries\n",
    "import pandas as pd\n",
    "from geopy import distance\n",
    "import requests\n",
    "import json\n",
    "\n",
    "# https://towardsdatascience.com/driving-distance-between-two-or-more-places-in-python-89779d691def\n",
    "#http://project-osrm.org/docs/v5.5.1/api/#responses\n"
   ]
  },
  {
   "cell_type": "code",
   "execution_count": 4,
   "id": "8c511b20",
   "metadata": {},
   "outputs": [],
   "source": [
    "# Ingest CSV and Create Name Column\n",
    "df = pd.read_csv(\"./Food_Resources_in_California.csv\")"
   ]
  },
  {
   "cell_type": "code",
   "execution_count": 5,
   "id": "80982d09",
   "metadata": {},
   "outputs": [
    {
     "name": "stdout",
     "output_type": "stream",
     "text": [
      "0.22236111111111112\n"
     ]
    }
   ],
   "source": [
    "# call the OSMR API\n",
    "# USC 34.0224° N(Latitude), 118.2851° W (Longitude)\n",
    "lon_1 = -118.2851\n",
    "lon_2 = -118.251340\n",
    "lat = 34.0224\n",
    "lat_2 = 33.924395\n",
    "r = requests.get(f\"http://router.project-osrm.org/route/v1/foot/{lon_1},{lat};{lon_2},{lat_2}?overview=false\"\"\")# then you load the response using the json libray\n",
    "# by default you get only one alternative so you access 0-th element of the `routes`\n",
    "routes = json.loads(r.content)\n",
    "route_1 = routes.get(\"routes\")[0]\n",
    "print(route_1['duration']/3600)"
   ]
  },
  {
   "cell_type": "code",
   "execution_count": 6,
   "id": "e861d519",
   "metadata": {},
   "outputs": [],
   "source": [
    "for x, row in df.iterrows():\n",
    "    lon_2 = df.at[x,'Longitude']\n",
    "    lat_2 = df.at[x,'Latitude']\n",
    "    r = requests.get(f\"http://router.project-osrm.org/route/v1/foot/{lon_1},{lat};{lon_2},{lat_2}?overview=false\"\"\")\n",
    "    routes = json.loads(r.content)\n",
    "    route_1 = routes.get(\"routes\")[0]\n",
    "    df.at[x,'Time'] = route_1['duration']\n",
    "    "
   ]
  },
  {
   "cell_type": "code",
   "execution_count": 7,
   "id": "b8f8ac73",
   "metadata": {},
   "outputs": [
    {
     "name": "stdout",
     "output_type": "stream",
     "text": [
      "hello world\n"
     ]
    }
   ],
   "source": [
    "df = df.sort_values('Time')\n",
    "df = df.drop(columns=['Longitude','Latitude'])\n",
    "df = df.set_index('Name')"
   ]
  },
  {
   "cell_type": "code",
   "execution_count": 14,
   "id": "fb82f9a3",
   "metadata": {},
   "outputs": [],
   "source": [
    "df.to_csv (\"./Foodbanks.csv\")"
   ]
  }
 ],
 "metadata": {
  "kernelspec": {
   "display_name": "anaconda-panel-2023.05-py310",
   "language": "python",
   "name": "conda-env-anaconda-panel-2023.05-py310-py"
  },
  "language_info": {
   "codemirror_mode": {
    "name": "ipython",
    "version": 3
   },
   "file_extension": ".py",
   "mimetype": "text/x-python",
   "name": "python",
   "nbconvert_exporter": "python",
   "pygments_lexer": "ipython3",
   "version": "3.11.4"
  }
 },
 "nbformat": 4,
 "nbformat_minor": 5
}
